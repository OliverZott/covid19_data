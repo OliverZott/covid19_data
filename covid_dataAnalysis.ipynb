{
 "cells": [
  {
   "cell_type": "markdown",
   "metadata": {},
   "source": [
    "# Data Analysis - covid19\n",
    "\n",
    "* Data download\n",
    "* Data wrangling\n",
    "* Data plot\n",
    "\n",
    "### Remarks:\n",
    "* convert DateRep to pd date format\n",
    "* set 'Date' as index"
   ]
  },
  {
   "cell_type": "code",
   "execution_count": 1,
   "metadata": {},
   "outputs": [],
   "source": [
    "import numpy as np\n",
    "import pandas as pd\n",
    "import os\n",
    "import datetime\n",
    "import sys\n",
    "import urllib.request\n",
    "\n",
    "import matplotlib.pyplot as plt\n",
    "import seaborn as sns\n",
    "sns.set()\n"
   ]
  },
  {
   "cell_type": "code",
   "execution_count": 2,
   "metadata": {},
   "outputs": [
    {
     "name": "stdout",
     "output_type": "stream",
     "text": [
      "Work directory ( /home/olli/Jupyter_Notebook/Covid_DataAnalyis ) is OK\n",
      "File ( COVID-19-geographic-disbtribution-worldwide-2020-03-22.xlsx ) already exists\n"
     ]
    }
   ],
   "source": [
    "# ----------------------- Download file -----------------------\n",
    "# format: \n",
    "# https://www.ecdc.europa.eu/sites/default/files/documents/COVID-19-geographic-disbtribution-worldwide-2020-03-22.xlsx\n",
    "\n",
    "\n",
    "def check_directory(cwd):\n",
    "    return os.access(cwd, os.F_OK or os.X_OK or os.R_OK | os.W_OK) \n",
    "\n",
    "def check_existence(file_name):\n",
    "    return os.path.isfile(file_name)\n",
    "\n",
    "\n",
    "def get_link_and_filename():\n",
    "    prefix = 'https://www.ecdc.europa.eu/sites/default/files/documents/COVID-19-geographic-disbtribution-worldwide-'\n",
    "    file_ending = '.xlsx'\n",
    "    file_date = datetime.datetime.now().strftime(\"%Y-%m-%d\")\n",
    "    \n",
    "    link_str = prefix + file_date + file_ending\n",
    "    file_name = \"COVID-19-geographic-disbtribution-worldwide-\" + file_date + file_ending\n",
    "    #print(link_str)\n",
    "    #print(file_name)\n",
    "    return link_str, file_name\n",
    "\n",
    "\n",
    "def file_download():\n",
    "    \n",
    "    cwd = os.getcwd()\n",
    "    link, file_name = get_link_and_filename()\n",
    "        \n",
    "    if check_directory(cwd):\n",
    "        print(f\"Work directory ( {cwd} ) is OK\")\n",
    "        if check_existence(file_name):\n",
    "            print(f\"File ( {file_name} ) already exists\")\n",
    "        else:\n",
    "            urllib.request.urlretrieve(link, file_name)\n",
    "\n",
    "        \n",
    "get_link_and_filename()\n",
    "file_download()"
   ]
  },
  {
   "cell_type": "code",
   "execution_count": 22,
   "metadata": {},
   "outputs": [
    {
     "data": {
      "text/html": [
       "<div>\n",
       "<style scoped>\n",
       "    .dataframe tbody tr th:only-of-type {\n",
       "        vertical-align: middle;\n",
       "    }\n",
       "\n",
       "    .dataframe tbody tr th {\n",
       "        vertical-align: top;\n",
       "    }\n",
       "\n",
       "    .dataframe thead th {\n",
       "        text-align: right;\n",
       "    }\n",
       "</style>\n",
       "<table border=\"1\" class=\"dataframe\">\n",
       "  <thead>\n",
       "    <tr style=\"text-align: right;\">\n",
       "      <th></th>\n",
       "      <th>Day</th>\n",
       "      <th>Month</th>\n",
       "      <th>Year</th>\n",
       "      <th>Cases</th>\n",
       "      <th>Deaths</th>\n",
       "      <th>Countries and territories</th>\n",
       "      <th>GeoId</th>\n",
       "    </tr>\n",
       "    <tr>\n",
       "      <th>DateRep</th>\n",
       "      <th></th>\n",
       "      <th></th>\n",
       "      <th></th>\n",
       "      <th></th>\n",
       "      <th></th>\n",
       "      <th></th>\n",
       "      <th></th>\n",
       "    </tr>\n",
       "  </thead>\n",
       "  <tbody>\n",
       "    <tr>\n",
       "      <th>2019-12-31</th>\n",
       "      <td>31</td>\n",
       "      <td>12</td>\n",
       "      <td>2019</td>\n",
       "      <td>0</td>\n",
       "      <td>0</td>\n",
       "      <td>North_Macedonia</td>\n",
       "      <td>MK</td>\n",
       "    </tr>\n",
       "    <tr>\n",
       "      <th>2019-12-31</th>\n",
       "      <td>31</td>\n",
       "      <td>12</td>\n",
       "      <td>2019</td>\n",
       "      <td>0</td>\n",
       "      <td>0</td>\n",
       "      <td>Azerbaijan</td>\n",
       "      <td>AZ</td>\n",
       "    </tr>\n",
       "    <tr>\n",
       "      <th>2019-12-31</th>\n",
       "      <td>31</td>\n",
       "      <td>12</td>\n",
       "      <td>2019</td>\n",
       "      <td>0</td>\n",
       "      <td>0</td>\n",
       "      <td>Singapore</td>\n",
       "      <td>SG</td>\n",
       "    </tr>\n",
       "    <tr>\n",
       "      <th>2019-12-31</th>\n",
       "      <td>31</td>\n",
       "      <td>12</td>\n",
       "      <td>2019</td>\n",
       "      <td>0</td>\n",
       "      <td>0</td>\n",
       "      <td>Brazil</td>\n",
       "      <td>BR</td>\n",
       "    </tr>\n",
       "    <tr>\n",
       "      <th>2019-12-31</th>\n",
       "      <td>31</td>\n",
       "      <td>12</td>\n",
       "      <td>2019</td>\n",
       "      <td>0</td>\n",
       "      <td>0</td>\n",
       "      <td>Kuwait</td>\n",
       "      <td>KW</td>\n",
       "    </tr>\n",
       "    <tr>\n",
       "      <th>...</th>\n",
       "      <td>...</td>\n",
       "      <td>...</td>\n",
       "      <td>...</td>\n",
       "      <td>...</td>\n",
       "      <td>...</td>\n",
       "      <td>...</td>\n",
       "      <td>...</td>\n",
       "    </tr>\n",
       "    <tr>\n",
       "      <th>2020-03-22</th>\n",
       "      <td>22</td>\n",
       "      <td>3</td>\n",
       "      <td>2020</td>\n",
       "      <td>0</td>\n",
       "      <td>0</td>\n",
       "      <td>Jersey</td>\n",
       "      <td>JE</td>\n",
       "    </tr>\n",
       "    <tr>\n",
       "      <th>2020-03-22</th>\n",
       "      <td>22</td>\n",
       "      <td>3</td>\n",
       "      <td>2020</td>\n",
       "      <td>39</td>\n",
       "      <td>1</td>\n",
       "      <td>Japan</td>\n",
       "      <td>JP</td>\n",
       "    </tr>\n",
       "    <tr>\n",
       "      <th>2020-03-22</th>\n",
       "      <td>22</td>\n",
       "      <td>3</td>\n",
       "      <td>2020</td>\n",
       "      <td>1</td>\n",
       "      <td>0</td>\n",
       "      <td>Zimbabwe</td>\n",
       "      <td>ZW</td>\n",
       "    </tr>\n",
       "    <tr>\n",
       "      <th>2020-03-22</th>\n",
       "      <td>22</td>\n",
       "      <td>3</td>\n",
       "      <td>2020</td>\n",
       "      <td>6557</td>\n",
       "      <td>795</td>\n",
       "      <td>Italy</td>\n",
       "      <td>IT</td>\n",
       "    </tr>\n",
       "    <tr>\n",
       "      <th>2020-03-22</th>\n",
       "      <td>22</td>\n",
       "      <td>3</td>\n",
       "      <td>2020</td>\n",
       "      <td>0</td>\n",
       "      <td>0</td>\n",
       "      <td>Afghanistan</td>\n",
       "      <td>AF</td>\n",
       "    </tr>\n",
       "  </tbody>\n",
       "</table>\n",
       "<p>6188 rows × 7 columns</p>\n",
       "</div>"
      ],
      "text/plain": [
       "            Day  Month  Year  Cases  Deaths Countries and territories GeoId\n",
       "DateRep                                                                    \n",
       "2019-12-31   31     12  2019      0       0           North_Macedonia    MK\n",
       "2019-12-31   31     12  2019      0       0                Azerbaijan    AZ\n",
       "2019-12-31   31     12  2019      0       0                 Singapore    SG\n",
       "2019-12-31   31     12  2019      0       0                    Brazil    BR\n",
       "2019-12-31   31     12  2019      0       0                    Kuwait    KW\n",
       "...         ...    ...   ...    ...     ...                       ...   ...\n",
       "2020-03-22   22      3  2020      0       0                    Jersey    JE\n",
       "2020-03-22   22      3  2020     39       1                     Japan    JP\n",
       "2020-03-22   22      3  2020      1       0                  Zimbabwe    ZW\n",
       "2020-03-22   22      3  2020   6557     795                     Italy    IT\n",
       "2020-03-22   22      3  2020      0       0               Afghanistan    AF\n",
       "\n",
       "[6188 rows x 7 columns]"
      ]
     },
     "execution_count": 22,
     "metadata": {},
     "output_type": "execute_result"
    }
   ],
   "source": [
    "# ----------------------- Read file / create pandas dataframe -----------------------\n",
    "    \n",
    "cwd = os.getcwd()\n",
    "link, file_name = get_link_and_filename()\n",
    "\n",
    "# instance on xlsx file\n",
    "xlsx = pd.ExcelFile(file_name)\n",
    "# read instance to pandas dataframe\n",
    "df = pd.read_excel(xlsx, parse_dates=True)\n",
    "\n",
    "# convert date to correct pd datetime format\n",
    "df['DateRep'] = pd.to_datetime(df.DateRep)\n",
    "\n",
    "# set date as index\n",
    "df.set_index('DateRep', inplace=True)\n",
    "\n",
    "# change order for timeseries\n",
    "df.sort_values(by='DateRep')"
   ]
  },
  {
   "cell_type": "code",
   "execution_count": 4,
   "metadata": {},
   "outputs": [
    {
     "data": {
      "text/plain": [
       "type"
      ]
     },
     "metadata": {},
     "output_type": "display_data"
    },
    {
     "data": {
      "text/plain": [
       "Index(['Day', 'Month', 'Year', 'Cases', 'Deaths', 'Countries and territories',\n",
       "       'GeoId'],\n",
       "      dtype='object')"
      ]
     },
     "metadata": {},
     "output_type": "display_data"
    },
    {
     "data": {
      "text/plain": [
       "DatetimeIndex(['2020-03-22', '2020-03-21', '2020-03-20', '2020-03-19',\n",
       "               '2020-03-18', '2020-03-17', '2020-03-16', '2020-03-15',\n",
       "               '2020-03-11', '2020-03-08',\n",
       "               ...\n",
       "               '2020-01-03', '2020-01-02', '2020-01-01', '2019-12-31',\n",
       "               '2020-03-22', '2020-03-21', '2020-03-20', '2020-03-19',\n",
       "               '2020-03-22', '2020-03-21'],\n",
       "              dtype='datetime64[ns]', name='DateRep', length=6188, freq=None)"
      ]
     },
     "metadata": {},
     "output_type": "display_data"
    },
    {
     "data": {
      "text/plain": [
       "array([[22, 3, 2020, ..., 0, 'Afghanistan', 'AF'],\n",
       "       [21, 3, 2020, ..., 0, 'Afghanistan', 'AF'],\n",
       "       [20, 3, 2020, ..., 0, 'Afghanistan', 'AF'],\n",
       "       ...,\n",
       "       [19, 3, 2020, ..., 0, 'Zambia', 'ZM'],\n",
       "       [22, 3, 2020, ..., 0, 'Zimbabwe', 'ZW'],\n",
       "       [21, 3, 2020, ..., 0, 'Zimbabwe', 'ZW']], dtype=object)"
      ]
     },
     "metadata": {},
     "output_type": "display_data"
    }
   ],
   "source": [
    "# ----------------------- Data wrangling -----------------------\n",
    "# net necessary yet !?!\n",
    "\n",
    "# check data\n",
    "index = df.index\n",
    "columns = df.columns\n",
    "values = df.values\n",
    "\n",
    "display(type)\n",
    "display(columns)\n",
    "display(index)\n",
    "display(values)\n",
    "# display(type(df['DateRep']))\n",
    "# df['DateRep'].dtype"
   ]
  },
  {
   "cell_type": "markdown",
   "metadata": {},
   "source": [
    "## Plotting Data\n",
    "\n",
    "### Plotting Timeseries\n",
    "\n",
    "### Plotting cumulative sum "
   ]
  },
  {
   "cell_type": "code",
   "execution_count": 24,
   "metadata": {},
   "outputs": [
    {
     "data": {
      "text/plain": [
       "Text(0, 0.5, 'Count')"
      ]
     },
     "execution_count": 24,
     "metadata": {},
     "output_type": "execute_result"
    },
    {
     "data": {
      "image/png": "[encoded data removed]",
      "text/plain": [
       "<Figure size 1008x648 with 1 Axes>"
      ]
     },
     "metadata": {
      "needs_background": "light"
     },
     "output_type": "display_data"
    },
    {
     "data": {
      "image/png": "[encoded data removed]",
      "text/plain": [
       "<Figure size 1008x648 with 1 Axes>"
      ]
     },
     "metadata": {
      "needs_background": "light"
     },
     "output_type": "display_data"
    }
   ],
   "source": [
    "# ----------------------- Read file -----------------------\n",
    "df_aut = df.loc[df['Countries and territories']=='Austria']\n",
    "df_aut = df_aut.sort_index(ascending=True)\n",
    "df_aut_march = df_aut.loc['2020-03-01':'2020-03-22']\n",
    "\n",
    "\n",
    "ax = df_aut_march.plot(y=['Cases','Deaths'], grid=True, marker=11, figsize=(14,9))\n",
    "ax.set_xlabel(\"Date\")\n",
    "ax.set_ylabel(\"Count\")\n",
    "\n",
    "ax = df_aut_march.cumsum().plot(y=['Cases','Deaths'], grid=True, marker=11, figsize=(14,9))\n",
    "ax.set_xlabel(\"Date\")\n",
    "ax.set_ylabel(\"Count\")"
   ]
  },
  {
   "cell_type": "code",
   "execution_count": null,
   "metadata": {},
   "outputs": [],
   "source": []
  }
 ],
 "metadata": {
  "kernelspec": {
   "display_name": "Python 3",
   "language": "python",
   "name": "python3"
  },
  "language_info": {
   "codemirror_mode": {
    "name": "ipython",
    "version": 3
   },
   "file_extension": ".py",
   "mimetype": "text/x-python",
   "name": "python",
   "nbconvert_exporter": "python",
   "pygments_lexer": "ipython3",
   "version": "3.7.5"
  }
 },
 "nbformat": 4,
 "nbformat_minor": 2
}
